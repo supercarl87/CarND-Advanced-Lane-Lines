{
 "cells": [
  {
   "cell_type": "markdown",
   "metadata": {
    "collapsed": true
   },
   "source": [
    "# Advance Lane Lines"
   ]
  },
  {
   "cell_type": "markdown",
   "metadata": {},
   "source": [
    "The goals / steps of this project are the following:\n",
    "\n",
    "* Compute the camera calibration matrix and distortion coefficients given a set of chessboard images.\n",
    "* Apply a distortion correction to raw images.\n",
    "* Use color transforms, gradients, etc., to create a thresholded binary image.\n",
    "* Apply a perspective transform to rectify binary image (\"birds-eye view\").\n",
    "* Detect lane pixels and fit to find the lane boundary.\n",
    "* Determine the curvature of the lane and vehicle position with respect to center.\n",
    "* Warp the detected lane boundaries back onto the original image.\n",
    "* Output visual display of the lane boundaries and numerical estimation of lane curvature and vehicle position."
   ]
  },
  {
   "cell_type": "markdown",
   "metadata": {},
   "source": [
    "### Import useful packages"
   ]
  },
  {
   "cell_type": "code",
   "execution_count": 130,
   "metadata": {
    "collapsed": true
   },
   "outputs": [],
   "source": [
    "#importing some useful packages\n",
    "import matplotlib.pyplot as plt\n",
    "import matplotlib.image as mpimg\n",
    "import numpy as np\n",
    "import glob\n",
    "import cv2\n",
    "import pickle\n",
    "%matplotlib inline"
   ]
  },
  {
   "cell_type": "markdown",
   "metadata": {},
   "source": [
    "## Configuration"
   ]
  },
  {
   "cell_type": "code",
   "execution_count": 131,
   "metadata": {
    "collapsed": true
   },
   "outputs": [],
   "source": [
    "nx = 9\n",
    "ny = 6\n",
    "points_file = \"camera_cal/points.p\""
   ]
  },
  {
   "cell_type": "markdown",
   "metadata": {},
   "source": [
    "## Calibrating Camera"
   ]
  },
  {
   "cell_type": "code",
   "execution_count": 132,
   "metadata": {},
   "outputs": [
    {
     "name": "stdout",
     "output_type": "stream",
     "text": [
      "processing image camera_cal/calibration1.jpg\n",
      "No corner found\n",
      "processing image camera_cal/calibration10.jpg\n",
      "processing image camera_cal/calibration11.jpg\n",
      "processing image camera_cal/calibration12.jpg\n",
      "processing image camera_cal/calibration13.jpg\n",
      "processing image camera_cal/calibration14.jpg\n",
      "processing image camera_cal/calibration15.jpg\n",
      "processing image camera_cal/calibration16.jpg\n",
      "processing image camera_cal/calibration17.jpg\n",
      "processing image camera_cal/calibration18.jpg\n",
      "processing image camera_cal/calibration19.jpg\n",
      "processing image camera_cal/calibration2.jpg\n",
      "processing image camera_cal/calibration20.jpg\n",
      "processing image camera_cal/calibration3.jpg\n",
      "processing image camera_cal/calibration4.jpg\n",
      "No corner found\n",
      "processing image camera_cal/calibration5.jpg\n",
      "No corner found\n",
      "processing image camera_cal/calibration6.jpg\n",
      "processing image camera_cal/calibration7.jpg\n",
      "processing image camera_cal/calibration8.jpg\n",
      "processing image camera_cal/calibration9.jpg\n",
      "Prcoess camera cal image done\n"
     ]
    }
   ],
   "source": [
    "\n",
    "objp = np.zeros((nx*ny,3), np.float32)\n",
    "objp[:,:2] = np.mgrid[0:nx, 0:ny].T.reshape(-1,2)\n",
    "\n",
    "# Arrays to store object points and image points from all the images.\n",
    "objpoints = [] # 3d points in real world space\n",
    "imgpoints = [] # 2d points in image plane.\n",
    "\n",
    "# Make a list of calibration images\n",
    "images = glob.glob('camera_cal/calibration*.jpg')\n",
    "\n",
    "# Step through the list and search for chessboard corners\n",
    "for idx, fname in enumerate(images):\n",
    "    img = cv2.imread(fname)\n",
    "    img_size = (img.shape[1], img.shape[0])\n",
    "    gray = cv2.cvtColor(img, cv2.COLOR_BGR2GRAY)\n",
    "\n",
    "    print('processing image ' + fname)\n",
    "    # Find the chessboard corners\n",
    "    ret, corners = cv2.findChessboardCorners(gray, (nx,ny), None)\n",
    "\n",
    "    # If found, add object points, image points\n",
    "    if ret == True:\n",
    "        objpoints.append(objp)\n",
    "        imgpoints.append(corners)\n",
    "\n",
    "        # Draw and display the corners\n",
    "        cv2.drawChessboardCorners(img, (nx,ny), corners, ret)\n",
    "        write_name = 'camera_cal/corners_found'+str(idx)+'.jpg'\n",
    "        cv2.imwrite(write_name, img)\n",
    "    else:\n",
    "        print('No corner found')\n",
    "ret, mtx, dist, rvecs, tvecs = cv2.calibrateCamera(objpoints, imgpoints, img_size, None, None)    \n",
    "calibrated_data = {'mtx': mtx, 'dist': dist}\n",
    "with open(points_file, 'wb') as f:\n",
    "    pickle.dump(calibrated_data, file=f)\n",
    "print(\"Prcoess camera cal image done\")\n"
   ]
  },
  {
   "cell_type": "code",
   "execution_count": null,
   "metadata": {
    "collapsed": true
   },
   "outputs": [],
   "source": [
    "\n"
   ]
  },
  {
   "cell_type": "code",
   "execution_count": 133,
   "metadata": {
    "collapsed": true
   },
   "outputs": [],
   "source": [
    "\n",
    "def cal_undistort(img, mtx, dist):\n",
    "    img_size = (img.shape[1], img.shape[0])\n",
    "    undist = cv2.undistort(img, mtx, dist, None, mtx)\n",
    "    return undist\n",
    "\n",
    "\n",
    "\n",
    "def display_image(img1, img2, title1='Original', title2='Processed', format1='rgb', format2='rgb'):\n",
    "    if format1 == 'bgr':\n",
    "        img1 = cv2.cvtColor(img1, cv2.COLOR_BGR2RGB)\n",
    "    if format2 == 'bgr':\n",
    "        img2 = cv2.cvtColor(img2, cv2.COLOR_BGR2RGB)\n",
    "    f, (ax1, ax2) = plt.subplots(1, 2, figsize=(20,10))\n",
    "    ax1.imshow(img1)\n",
    "    ax1.set_title(title1, fontsize=30)\n",
    "    ax2.imshow(img2)\n",
    "    ax2.set_title(title2, fontsize=30)\n",
    "    plt.show()\n",
    "    \n"
   ]
  },
  {
   "cell_type": "code",
   "execution_count": 134,
   "metadata": {},
   "outputs": [],
   "source": [
    "def color_sobel(img, s_thresh=(170, 220), sx_thresh=(20, 100), img_format='bgr'):\n",
    "    # Convert to HSV color space and separate the V channel\n",
    "    if img_format == 'bgr':\n",
    "        hsv = cv2.cvtColor(img, cv2.COLOR_BGR2HLS).astype(np.float)\n",
    "    else:\n",
    "        hsv = cv2.cvtColor(img, cv2.COLOR_RGB2HLS).astype(np.float)\n",
    "    l_channel = hsv[:,:,1]\n",
    "    s_channel = hsv[:,:,2]\n",
    "    # Sobel x\n",
    "    sobelx = cv2.Sobel(l_channel, cv2.CV_64F, 1, 0) # Take the derivative in x\n",
    "    abs_sobelx = np.absolute(sobelx) # Absolute x derivative to accentuate lines away from horizontal\n",
    "    scaled_sobel = np.uint8(255*abs_sobelx/np.max(abs_sobelx))\n",
    "    \n",
    "    # Threshold x gradient\n",
    "    sxbinary = np.zeros_like(scaled_sobel)\n",
    "    sxbinary[(scaled_sobel >= sx_thresh[0]) & (scaled_sobel <= sx_thresh[1])] = 1\n",
    "    \n",
    "    # Threshold color channel\n",
    "    s_binary = np.zeros_like(s_channel)\n",
    "    s_binary[(s_channel >= s_thresh[0]) & (s_channel <= s_thresh[1])] = 1\n",
    "    # Stack each channel\n",
    "    # Note color_binary[:, :, 0] is all 0s, effectively an all black image. It might\n",
    "    # be beneficial to replace this channel with something else.\n",
    "    color_binary = np.dstack(( np.zeros_like(sxbinary), sxbinary, s_binary))\n",
    "    combined_binary = np.zeros_like(gray)\n",
    "    combined_binary[(s_binary == 1) | (sxbinary == 1)] = 1\n",
    "    return (color_binary, combined_binary)\n",
    "\n",
    "\n"
   ]
  },
  {
   "cell_type": "markdown",
   "metadata": {
    "collapsed": true
   },
   "source": [
    "## Persective Transformation"
   ]
  },
  {
   "cell_type": "code",
   "execution_count": 135,
   "metadata": {},
   "outputs": [],
   "source": [
    "def get_perspective_matrix(img_size):\n",
    "    bot_width = 0.76\n",
    "    mid_width = 0.09\n",
    "    height_pct = 0.62\n",
    "    bot_pct = 0.935\n",
    "    offset = img_size[0] * 0.25\n",
    "    src = np.float32([\n",
    "        [img_size[0]*(0.5 - mid_width/2), img_size[1] *height_pct ],\n",
    "        [img_size[0]*(0.5 + mid_width/2), img_size[1] *height_pct ],\n",
    "        [img_size[0]*(0.5 + bot_width/2), img_size[1] *bot_pct ],\n",
    "        [img_size[0]*(0.5 - bot_width/2), img_size[1] *bot_pct ]\n",
    "    ])\n",
    "\n",
    "    dst = np.float32([\n",
    "        [offset,0], \n",
    "        [img_size[0] - offset, 0], \n",
    "        [img_size[0] - offset, img_size[1]], \n",
    "        [offset, img_size[1]]\n",
    "    ])\n",
    "    M = cv2.getPerspectiveTransform(src, dst)\n",
    "    Minv = cv2.getPerspectiveTransform(dst, src)\n",
    "    return M, Minv"
   ]
  },
  {
   "cell_type": "markdown",
   "metadata": {
    "collapsed": true
   },
   "source": [
    "## Apply undistort and threshould and wrap"
   ]
  },
  {
   "cell_type": "code",
   "execution_count": 136,
   "metadata": {},
   "outputs": [],
   "source": [
    "def display_hisgram(img):\n",
    "    histogram = np.sum(img[img.shape[0]//2:,:], axis=0)\n",
    "    plt.figure(figsize=(8, 3))\n",
    "    plt.plot(histogram)\n",
    "    plt.show()\n",
    "\n",
    "\n"
   ]
  },
  {
   "cell_type": "code",
   "execution_count": 137,
   "metadata": {},
   "outputs": [],
   "source": [
    "def get_fitting_points(binary_warped):\n",
    "    # Assuming you have created a warped binary image called \"binary_warped\"\n",
    "    # Take a histogram of the bottom half of the image\n",
    "    histogram = np.sum(binary_warped[binary_warped.shape[0]//2:,:], axis=0)\n",
    "    # Create an output image to draw on and  visualize the result\n",
    "    out_img = np.dstack((binary_warped, binary_warped, binary_warped))*255\n",
    "    # Find the peak of the left and right halves of the histogram\n",
    "    # These will be the starting point for the left and right lines\n",
    "    midpoint = np.int(histogram.shape[0]/2)\n",
    "    leftx_base = np.argmax(histogram[:midpoint])\n",
    "    rightx_base = np.argmax(histogram[midpoint:]) + midpoint\n",
    "\n",
    "    # Choose the number of sliding windows\n",
    "    nwindows = 9\n",
    "    # Set height of windows\n",
    "    window_height = np.int(binary_warped.shape[0]/nwindows)\n",
    "    # Identify the x and y positions of all nonzero pixels in the image\n",
    "    nonzero = binary_warped.nonzero()\n",
    "    nonzeroy = np.array(nonzero[0])\n",
    "    nonzerox = np.array(nonzero[1])\n",
    "    # Current positions to be updated for each window\n",
    "    leftx_current = leftx_base\n",
    "    rightx_current = rightx_base\n",
    "    # Set the width of the windows +/- margin\n",
    "    margin = 100\n",
    "    # Set minimum number of pixels found to recenter window\n",
    "    minpix = 50\n",
    "    # Create empty lists to receive left and right lane pixel indices\n",
    "    left_lane_inds = []\n",
    "    right_lane_inds = []\n",
    "\n",
    "    # Step through the windows one by one\n",
    "    for window in range(nwindows):\n",
    "        # Identify window boundaries in x and y (and right and left)\n",
    "        win_y_low = binary_warped.shape[0] - (window+1)*window_height\n",
    "        win_y_high = binary_warped.shape[0] - window*window_height\n",
    "        win_xleft_low = leftx_current - margin\n",
    "        win_xleft_high = leftx_current + margin\n",
    "        win_xright_low = rightx_current - margin\n",
    "        win_xright_high = rightx_current + margin\n",
    "        # Draw the windows on the visualization image\n",
    "        cv2.rectangle(out_img,(win_xleft_low,win_y_low),(win_xleft_high,win_y_high),(0,255,0), 2) \n",
    "        cv2.rectangle(out_img,(win_xright_low,win_y_low),(win_xright_high,win_y_high),(0,255,0), 2) \n",
    "        # Identify the nonzero pixels in x and y within the window\n",
    "        good_left_inds = ((nonzeroy >= win_y_low) & (nonzeroy < win_y_high) & (nonzerox >= win_xleft_low) & (nonzerox < win_xleft_high)).nonzero()[0]\n",
    "        good_right_inds = ((nonzeroy >= win_y_low) & (nonzeroy < win_y_high) & (nonzerox >= win_xright_low) & (nonzerox < win_xright_high)).nonzero()[0]\n",
    "        # Append these indices to the lists\n",
    "        left_lane_inds.append(good_left_inds)\n",
    "        right_lane_inds.append(good_right_inds)\n",
    "        # If you found > minpix pixels, recenter next window on their mean position\n",
    "        if len(good_left_inds) > minpix:\n",
    "            leftx_current = np.int(np.mean(nonzerox[good_left_inds]))\n",
    "        if len(good_right_inds) > minpix:        \n",
    "            rightx_current = np.int(np.mean(nonzerox[good_right_inds]))\n",
    "\n",
    "    # Concatenate the arrays of indices\n",
    "    left_lane_inds = np.concatenate(left_lane_inds)\n",
    "    right_lane_inds = np.concatenate(right_lane_inds)\n",
    "\n",
    "    # Extract left and right line pixel positions\n",
    "    leftx = nonzerox[left_lane_inds]\n",
    "    lefty = nonzeroy[left_lane_inds] \n",
    "    rightx = nonzerox[right_lane_inds]\n",
    "    righty = nonzeroy[right_lane_inds] \n",
    "\n",
    "    # Fit a second order polynomial to each\n",
    "    left_fit = np.polyfit(lefty, leftx, 2)\n",
    "    right_fit = np.polyfit(righty, rightx, 2)\n",
    "    # Generate x and y values for plotting\n",
    "    ploty = np.linspace(0, binary_warped.shape[0]-1, binary_warped.shape[0] )\n",
    "    left_fitx = left_fit[0]*ploty**2 + left_fit[1]*ploty + left_fit[2]\n",
    "    right_fitx = right_fit[0]*ploty**2 + right_fit[1]*ploty + right_fit[2]\n",
    "\n",
    "    line_left = []\n",
    "    for i in range(len(left_fitx)):\n",
    "        line_left.append((left_fitx[i],ploty[i]))\n",
    "    pts_left = np.int32([line_left])\n",
    "\n",
    "    line_right = []\n",
    "    for i in range(len(right_fitx)):\n",
    "        line_right.append((right_fitx[i],ploty[i]))\n",
    "\n",
    "    line_right.reverse()\n",
    "    pts_right = np.int32([line_right])\n",
    "\n",
    "\n",
    "    # print(line_left)\n",
    "    ouput_just_plot = warped_img\n",
    "\n",
    "\n",
    "    out_img[nonzeroy[left_lane_inds], nonzerox[left_lane_inds]] = [255, 0, 0]\n",
    "    out_img[nonzeroy[right_lane_inds], nonzerox[right_lane_inds]] = [0, 0, 255]\n",
    "\n",
    "    out_img[nonzeroy[left_lane_inds], nonzerox[left_lane_inds]] = [255, 0, 0]\n",
    "    out_img[nonzeroy[right_lane_inds], nonzerox[right_lane_inds]] = [0, 0, 255]\n",
    "    pts = np.hstack((pts_left, pts_right))\n",
    "\n",
    "    return pts"
   ]
  },
  {
   "cell_type": "code",
   "execution_count": null,
   "metadata": {},
   "outputs": [],
   "source": [
    "M, Minv = get_perspective_matrix(img_size)\n",
    "with open(points_file, 'rb') as f:\n",
    "    calibrated_data = pickle.load(file=f)\n",
    "mtx = calibrated_data['mtx']\n",
    "dist = calibrated_data['dist']\n",
    "def process_image(img, mtx=mtx, dist=dist, debug=False):\n",
    "    img_size = (img.shape[1], img.shape[0])\n",
    "    undistort = cal_undistort(img, mtx, dist)\n",
    "    color_binary, combined_binary = color_sobel(undistort)\n",
    "    binary_warped = cv2.warpPerspective(combined_binary, M, img_size, flags=cv2.INTER_LINEAR)\n",
    "    pts = get_fitting_points(binary_warped)\n",
    "    lane_img_wraped = np.zeros_like(img)\n",
    "    cv2.fillPoly(lane_img_wraped, pts, (0, 255, 0))\n",
    "    lane_only = cv2.warpPerspective(lane_img_wraped, Minv, img_size, flags=cv2.INTER_LINEAR)\n",
    "    copy_src_img = np.copy(img)\n",
    "    processed = cv2.addWeighted(img, 1, lane_only, 0.3, 0)\n",
    "    if debug:\n",
    "        display_image(img,undistort, 'Original', 'Undistort')\n",
    "        display_image(color_binary, combined_binary, 'Stacked thresholds', 'S channel + gradient thresholds')\n",
    "        display_image(combined_binary, binary_warped, 'Binary', 'binary_warped')\n",
    "        display_hisgram(binary_warped)\n",
    "        display_image(lane_img_wraped, lane_only, 'Wrapped', 'Lane only')\n",
    "        display_image(img, processed, 'Original', 'Lane plot')\n",
    "    return processed\n",
    "\n",
    "img = mpimg.imread('test_images/straight_lines2.jpg')\n",
    "\n",
    "\n",
    "dst = process_image(img, mtx, dist)\n"
   ]
  },
  {
   "cell_type": "code",
   "execution_count": null,
   "metadata": {},
   "outputs": [],
   "source": [
    "\n"
   ]
  },
  {
   "cell_type": "code",
   "execution_count": null,
   "metadata": {},
   "outputs": [
    {
     "name": "stdout",
     "output_type": "stream",
     "text": [
      "[MoviePy] >>>> Building video project_video_output.mp4\n",
      "[MoviePy] Writing video project_video_output.mp4\n"
     ]
    },
    {
     "name": "stderr",
     "output_type": "stream",
     "text": [
      " 92%|█████████▏| 1161/1261 [03:01<00:17,  5.78it/s]"
     ]
    }
   ],
   "source": [
    "import imageio\n",
    "from moviepy.editor import VideoFileClip\n",
    "from IPython.display import HTML\n",
    "output_video = 'project_video_output.mp4'\n",
    "clip1 = VideoFileClip(\"project_video.mp4\")\n",
    "output_clip = clip1.fl_image(process_image)\n",
    "%time output_clip.write_videofile(output_video, audio=False)"
   ]
  }
 ],
 "metadata": {
  "kernelspec": {
   "display_name": "Python 3",
   "language": "python",
   "name": "python3"
  },
  "language_info": {
   "codemirror_mode": {
    "name": "ipython",
    "version": 3
   },
   "file_extension": ".py",
   "mimetype": "text/x-python",
   "name": "python",
   "nbconvert_exporter": "python",
   "pygments_lexer": "ipython3",
   "version": "3.5.2"
  },
  "widgets": {
   "state": {},
   "version": "1.1.2"
  }
 },
 "nbformat": 4,
 "nbformat_minor": 1
}
